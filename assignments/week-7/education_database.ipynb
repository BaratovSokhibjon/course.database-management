{
 "cells": [
  {
   "cell_type": "markdown",
   "id": "education-db-title",
   "metadata": {},
   "source": [
    "# Education Company Database - Week 7 Assignment\n",
    "\n",
    "This notebook implements a complete SQLite database for an Education Company with 8 tables:\n",
    "1. Companies\n",
    "2. Branches\n",
    "3. Courses\n",
    "4. Students\n",
    "5. Enrollment\n",
    "6. Logging\n",
    "7. Teacher\n",
    "8. Department"
   ]
  },
  {
   "cell_type": "markdown",
   "id": "setup-section",
   "metadata": {},
   "source": [
    "## Setup: Import Libraries and Connect to Database"
   ]
  },
  {
   "cell_type": "code",
   "execution_count": null,
   "id": "imports",
   "metadata": {},
   "outputs": [],
   "source": [
    "import sqlite3\n",
    "import pandas as pd\n",
    "from datetime import datetime"
   ]
  },
  {
   "cell_type": "code",
   "execution_count": null,
   "id": "connection",
   "metadata": {},
   "outputs": [],
   "source": [
    "# Connect to SQLite database (creates the file if it doesn't exist)\n",
    "conn = sqlite3.connect('education_company.db')\n",
    "cursor = conn.cursor()\n",
    "\n",
    "# Enable Foreign Key constraints\n",
    "cursor.execute('PRAGMA foreign_keys = ON')\n",
    "print('Database connected and foreign key constraints enabled.')"
   ]
  },
  {
   "cell_type": "markdown",
   "id": "create-tables-section",
   "metadata": {},
   "source": [
    "## Creation: Create All 8 Tables"
   ]
  },
  {
   "cell_type": "code",
   "execution_count": null,
   "id": "create-companies",
   "metadata": {},
   "outputs": [],
   "source": [
    "# 1. Create Companies table\n",
    "cursor.execute('''\n",
    "CREATE TABLE IF NOT EXISTS Companies (\n",
    "    id INTEGER PRIMARY KEY AUTOINCREMENT,\n",
    "    name TEXT NOT NULL,\n",
    "    headquarters TEXT\n",
    ")\n",
    "''')\n",
    "print('Companies table created.')"
   ]
  },
  {
   "cell_type": "code",
   "execution_count": null,
   "id": "create-branches",
   "metadata": {},
   "outputs": [],
   "source": [
    "# 2. Create Branches table\n",
    "cursor.execute('''\n",
    "CREATE TABLE IF NOT EXISTS Branches (\n",
    "    id INTEGER PRIMARY KEY AUTOINCREMENT,\n",
    "    company_id INTEGER,\n",
    "    location TEXT NOT NULL,\n",
    "    FOREIGN KEY (company_id) REFERENCES Companies(id)\n",
    ")\n",
    "''')\n",
    "print('Branches table created.')"
   ]
  },
  {
   "cell_type": "code",
   "execution_count": null,
   "id": "create-courses",
   "metadata": {},
   "outputs": [],
   "source": [
    "# 3. Create Courses table\n",
    "cursor.execute('''\n",
    "CREATE TABLE IF NOT EXISTS Courses (\n",
    "    id INTEGER PRIMARY KEY AUTOINCREMENT,\n",
    "    branch_id INTEGER,\n",
    "    name TEXT NOT NULL,\n",
    "    duration INTEGER,\n",
    "    FOREIGN KEY (branch_id) REFERENCES Branches(id)\n",
    ")\n",
    "''')\n",
    "print('Courses table created.')"
   ]
  },
  {
   "cell_type": "code",
   "execution_count": null,
   "id": "create-students",
   "metadata": {},
   "outputs": [],
   "source": [
    "# 4. Create Students table\n",
    "cursor.execute('''\n",
    "CREATE TABLE IF NOT EXISTS Students (\n",
    "    id INTEGER PRIMARY KEY AUTOINCREMENT,\n",
    "    course_id INTEGER,\n",
    "    name TEXT NOT NULL,\n",
    "    age INTEGER,\n",
    "    FOREIGN KEY (course_id) REFERENCES Courses(id)\n",
    ")\n",
    "''')\n",
    "print('Students table created.')"
   ]
  },
  {
   "cell_type": "code",
   "execution_count": null,
   "id": "create-enrollment",
   "metadata": {},
   "outputs": [],
   "source": [
    "# 5. Create Enrollment table\n",
    "cursor.execute('''\n",
    "CREATE TABLE IF NOT EXISTS Enrollment (\n",
    "    id INTEGER PRIMARY KEY AUTOINCREMENT,\n",
    "    student_id INTEGER,\n",
    "    course_id INTEGER,\n",
    "    enrollment_date TEXT,\n",
    "    FOREIGN KEY (student_id) REFERENCES Students(id),\n",
    "    FOREIGN KEY (course_id) REFERENCES Courses(id)\n",
    ")\n",
    "''')\n",
    "print('Enrollment table created.')"
   ]
  },
  {
   "cell_type": "code",
   "execution_count": null,
   "id": "create-logging",
   "metadata": {},
   "outputs": [],
   "source": [
    "# 6. Create Logging table\n",
    "cursor.execute('''\n",
    "CREATE TABLE IF NOT EXISTS Logging (\n",
    "    id INTEGER PRIMARY KEY AUTOINCREMENT,\n",
    "    activity TEXT NOT NULL,\n",
    "    timestamp TEXT NOT NULL\n",
    ")\n",
    "''')\n",
    "print('Logging table created.')"
   ]
  },
  {
   "cell_type": "code",
   "execution_count": null,
   "id": "create-teacher",
   "metadata": {},
   "outputs": [],
   "source": [
    "# 7. Create Teacher table\n",
    "cursor.execute('''\n",
    "CREATE TABLE IF NOT EXISTS Teacher (\n",
    "    id INTEGER PRIMARY KEY AUTOINCREMENT,\n",
    "    branch_id INTEGER,\n",
    "    name TEXT NOT NULL,\n",
    "    subject TEXT,\n",
    "    FOREIGN KEY (branch_id) REFERENCES Branches(id)\n",
    ")\n",
    "''')\n",
    "print('Teacher table created.')"
   ]
  },
  {
   "cell_type": "code",
   "execution_count": null,
   "id": "create-department",
   "metadata": {},
   "outputs": [],
   "source": [
    "# 8. Create Department table\n",
    "cursor.execute('''\n",
    "CREATE TABLE IF NOT EXISTS Department (\n",
    "    id INTEGER PRIMARY KEY AUTOINCREMENT,\n",
    "    branch_id INTEGER,\n",
    "    name TEXT NOT NULL,\n",
    "    FOREIGN KEY (branch_id) REFERENCES Branches(id)\n",
    ")\n",
    "''')\n",
    "print('Department table created.')\n",
    "conn.commit()"
   ]
  },
  {
   "cell_type": "markdown",
   "id": "populate-section",
   "metadata": {},
   "source": [
    "## Population: Insert 10 Rows into Each Table"
   ]
  },
  {
   "cell_type": "code",
   "execution_count": null,
   "id": "insert-companies",
   "metadata": {},
   "outputs": [],
   "source": [
    "# Insert 10 rows into Companies\n",
    "companies_data = [\n",
    "    ('TechEdu International', 'New York, USA'),\n",
    "    ('Global Learning Corp', 'London, UK'),\n",
    "    ('Knowledge Hub', 'Tokyo, Japan'),\n",
    "    ('EduPro Solutions', 'Berlin, Germany'),\n",
    "    ('Smart Academy', 'Paris, France'),\n",
    "    ('Future Skills Inc', 'Toronto, Canada'),\n",
    "    ('Digital Learning Group', 'Sydney, Australia'),\n",
    "    ('Innovation Education', 'Singapore'),\n",
    "    ('Premier Institute', 'Dubai, UAE'),\n",
    "    ('Elite Education Network', 'Mumbai, India')\n",
    "]\n",
    "\n",
    "cursor.executemany('INSERT INTO Companies (name, headquarters) VALUES (?, ?)', companies_data)\n",
    "print(f'Inserted {cursor.rowcount} rows into Companies table.')\n",
    "conn.commit()"
   ]
  },
  {
   "cell_type": "code",
   "execution_count": null,
   "id": "insert-branches",
   "metadata": {},
   "outputs": [],
   "source": [
    "# Insert 10 rows into Branches\n",
    "branches_data = [\n",
    "    (1, 'Manhattan Branch'),\n",
    "    (1, 'Brooklyn Branch'),\n",
    "    (2, 'Oxford Street Branch'),\n",
    "    (2, 'Camden Branch'),\n",
    "    (3, 'Shibuya Branch'),\n",
    "    (4, 'Mitte Branch'),\n",
    "    (5, 'Champs-Élysées Branch'),\n",
    "    (6, 'Downtown Toronto Branch'),\n",
    "    (7, 'CBD Sydney Branch'),\n",
    "    (8, 'Marina Bay Branch')\n",
    "]\n",
    "\n",
    "cursor.executemany('INSERT INTO Branches (company_id, location) VALUES (?, ?)', branches_data)\n",
    "print(f'Inserted {cursor.rowcount} rows into Branches table.')\n",
    "conn.commit()"
   ]
  },
  {
   "cell_type": "code",
   "execution_count": null,
   "id": "insert-courses",
   "metadata": {},
   "outputs": [],
   "source": [
    "# Insert 10 rows into Courses\n",
    "courses_data = [\n",
    "    (1, 'Python Programming', 12),\n",
    "    (1, 'Data Science Fundamentals', 16),\n",
    "    (2, 'Web Development', 14),\n",
    "    (2, 'Machine Learning', 20),\n",
    "    (3, 'Database Management', 10),\n",
    "    (4, 'Cybersecurity Basics', 8),\n",
    "    (5, 'Cloud Computing', 15),\n",
    "    (6, 'Mobile App Development', 18),\n",
    "    (7, 'Digital Marketing', 12),\n",
    "    (8, 'Artificial Intelligence', 24)\n",
    "]\n",
    "\n",
    "cursor.executemany('INSERT INTO Courses (branch_id, name, duration) VALUES (?, ?, ?)', courses_data)\n",
    "print(f'Inserted {cursor.rowcount} rows into Courses table.')\n",
    "conn.commit()"
   ]
  },
  {
   "cell_type": "code",
   "execution_count": null,
   "id": "insert-students",
   "metadata": {},
   "outputs": [],
   "source": [
    "# Insert 10 rows into Students\n",
    "students_data = [\n",
    "    (1, 'Alice Johnson', 22),\n",
    "    (1, 'Bob Smith', 24),\n",
    "    (2, 'Charlie Brown', 21),\n",
    "    (3, 'Diana Prince', 23),\n",
    "    (3, 'Edward Norton', 25),\n",
    "    (4, 'Fiona Green', 20),\n",
    "    (5, 'George Wilson', 26),\n",
    "    (6, 'Hannah Lee', 22),\n",
    "    (7, 'Ian McKellen', 27),\n",
    "    (8, 'Julia Roberts', 24)\n",
    "]\n",
    "\n",
    "cursor.executemany('INSERT INTO Students (course_id, name, age) VALUES (?, ?, ?)', students_data)\n",
    "print(f'Inserted {cursor.rowcount} rows into Students table.')\n",
    "conn.commit()"
   ]
  },
  {
   "cell_type": "code",
   "execution_count": null,
   "id": "insert-enrollment",
   "metadata": {},
   "outputs": [],
   "source": [
    "# Insert 10 rows into Enrollment\n",
    "enrollment_data = [\n",
    "    (1, 1, '2024-01-15'),\n",
    "    (2, 1, '2024-01-15'),\n",
    "    (3, 2, '2024-01-20'),\n",
    "    (4, 3, '2024-02-01'),\n",
    "    (5, 3, '2024-02-01'),\n",
    "    (6, 4, '2024-02-10'),\n",
    "    (7, 5, '2024-02-15'),\n",
    "    (8, 6, '2024-03-01'),\n",
    "    (9, 7, '2024-03-05'),\n",
    "    (10, 8, '2024-03-10')\n",
    "]\n",
    "\n",
    "cursor.executemany('INSERT INTO Enrollment (student_id, course_id, enrollment_date) VALUES (?, ?, ?)', enrollment_data)\n",
    "print(f'Inserted {cursor.rowcount} rows into Enrollment table.')\n",
    "conn.commit()"
   ]
  },
  {
   "cell_type": "code",
   "execution_count": null,
   "id": "insert-logging",
   "metadata": {},
   "outputs": [],
   "source": [
    "# Insert 10 rows into Logging\n",
    "logging_data = [\n",
    "    ('Database initialized', '2024-01-01 08:00:00'),\n",
    "    ('Companies table created', '2024-01-01 08:01:00'),\n",
    "    ('Branches table created', '2024-01-01 08:02:00'),\n",
    "    ('Courses table created', '2024-01-01 08:03:00'),\n",
    "    ('Students enrolled', '2024-01-15 10:00:00'),\n",
    "    ('New course added', '2024-02-01 09:00:00'),\n",
    "    ('Teacher assigned', '2024-02-05 11:00:00'),\n",
    "    ('Department created', '2024-02-10 14:00:00'),\n",
    "    ('Enrollment completed', '2024-03-10 16:00:00'),\n",
    "    ('System backup completed', '2024-03-15 22:00:00')\n",
    "]\n",
    "\n",
    "cursor.executemany('INSERT INTO Logging (activity, timestamp) VALUES (?, ?)', logging_data)\n",
    "print(f'Inserted {cursor.rowcount} rows into Logging table.')\n",
    "conn.commit()"
   ]
  },
  {
   "cell_type": "code",
   "execution_count": null,
   "id": "insert-teacher",
   "metadata": {},
   "outputs": [],
   "source": [
    "# Insert 10 rows into Teacher\n",
    "teacher_data = [\n",
    "    (1, 'Dr. Sarah Williams', 'Python Programming'),\n",
    "    (1, 'Prof. Michael Chen', 'Data Science'),\n",
    "    (2, 'Dr. Emma Watson', 'Web Development'),\n",
    "    (3, 'Prof. John Davis', 'Machine Learning'),\n",
    "    (4, 'Dr. Lisa Anderson', 'Database Systems'),\n",
    "    (5, 'Prof. Robert Taylor', 'Cybersecurity'),\n",
    "    (6, 'Dr. Maria Garcia', 'Cloud Computing'),\n",
    "    (7, 'Prof. David Martinez', 'Mobile Development'),\n",
    "    (8, 'Dr. Jennifer Lee', 'Digital Marketing'),\n",
    "    (9, 'Prof. James Wilson', 'Artificial Intelligence')\n",
    "]\n",
    "\n",
    "cursor.executemany('INSERT INTO Teacher (branch_id, name, subject) VALUES (?, ?, ?)', teacher_data)\n",
    "print(f'Inserted {cursor.rowcount} rows into Teacher table.')\n",
    "conn.commit()"
   ]
  },
  {
   "cell_type": "code",
   "execution_count": null,
   "id": "insert-department",
   "metadata": {},
   "outputs": [],
   "source": [
    "# Insert 10 rows into Department\n",
    "department_data = [\n",
    "    (1, 'Computer Science'),\n",
    "    (1, 'Data Analytics'),\n",
    "    (2, 'Software Engineering'),\n",
    "    (3, 'Information Technology'),\n",
    "    (4, 'Artificial Intelligence'),\n",
    "    (5, 'Cybersecurity'),\n",
    "    (6, 'Cloud Technologies'),\n",
    "    (7, 'Business Intelligence'),\n",
    "    (8, 'Digital Innovation'),\n",
    "    (9, 'Research & Development')\n",
    "]\n",
    "\n",
    "cursor.executemany('INSERT INTO Department (branch_id, name) VALUES (?, ?)', department_data)\n",
    "print(f'Inserted {cursor.rowcount} rows into Department table.')\n",
    "conn.commit()"
   ]
  },
  {
   "cell_type": "markdown",
   "id": "visualization-section",
   "metadata": {},
   "source": [
    "## Visualization: Query and Display All Tables using Pandas"
   ]
  },
  {
   "cell_type": "code",
   "execution_count": null,
   "id": "display-companies",
   "metadata": {},
   "outputs": [],
   "source": [
    "# Display Companies table\n",
    "print('\\n=== COMPANIES TABLE ===')\n",
    "df_companies = pd.read_sql_query('SELECT * FROM Companies', conn)\n",
    "display(df_companies)"
   ]
  },
  {
   "cell_type": "code",
   "execution_count": null,
   "id": "display-branches",
   "metadata": {},
   "outputs": [],
   "source": [
    "# Display Branches table\n",
    "print('\\n=== BRANCHES TABLE ===')\n",
    "df_branches = pd.read_sql_query('SELECT * FROM Branches', conn)\n",
    "display(df_branches)"
   ]
  },
  {
   "cell_type": "code",
   "execution_count": null,
   "id": "display-courses",
   "metadata": {},
   "outputs": [],
   "source": [
    "# Display Courses table\n",
    "print('\\n=== COURSES TABLE ===')\n",
    "df_courses = pd.read_sql_query('SELECT * FROM Courses', conn)\n",
    "display(df_courses)"
   ]
  },
  {
   "cell_type": "code",
   "execution_count": null,
   "id": "display-students",
   "metadata": {},
   "outputs": [],
   "source": [
    "# Display Students table\n",
    "print('\\n=== STUDENTS TABLE ===')\n",
    "df_students = pd.read_sql_query('SELECT * FROM Students', conn)\n",
    "display(df_students)"
   ]
  },
  {
   "cell_type": "code",
   "execution_count": null,
   "id": "display-enrollment",
   "metadata": {},
   "outputs": [],
   "source": [
    "# Display Enrollment table\n",
    "print('\\n=== ENROLLMENT TABLE ===')\n",
    "df_enrollment = pd.read_sql_query('SELECT * FROM Enrollment', conn)\n",
    "display(df_enrollment)"
   ]
  },
  {
   "cell_type": "code",
   "execution_count": null,
   "id": "display-logging",
   "metadata": {},
   "outputs": [],
   "source": [
    "# Display Logging table\n",
    "print('\\n=== LOGGING TABLE ===')\n",
    "df_logging = pd.read_sql_query('SELECT * FROM Logging', conn)\n",
    "display(df_logging)"
   ]
  },
  {
   "cell_type": "code",
   "execution_count": null,
   "id": "display-teacher",
   "metadata": {},
   "outputs": [],
   "source": [
    "# Display Teacher table\n",
    "print('\\n=== TEACHER TABLE ===')\n",
    "df_teacher = pd.read_sql_query('SELECT * FROM Teacher', conn)\n",
    "display(df_teacher)"
   ]
  },
  {
   "cell_type": "code",
   "execution_count": null,
   "id": "display-department",
   "metadata": {},
   "outputs": [],
   "source": [
    "# Display Department table\n",
    "print('\\n=== DEPARTMENT TABLE ===')\n",
    "df_department = pd.read_sql_query('SELECT * FROM Department', conn)\n",
    "display(df_department)"
   ]
  },
  {
   "cell_type": "markdown",
   "id": "summary-section",
   "metadata": {},
   "source": [
    "## Summary: Verify All Data"
   ]
  },
  {
   "cell_type": "code",
   "execution_count": null,
   "id": "summary",
   "metadata": {},
   "outputs": [],
   "source": [
    "# Print summary of all tables\n",
    "tables = ['Companies', 'Branches', 'Courses', 'Students', 'Enrollment', 'Logging', 'Teacher', 'Department']\n",
    "print('\\n=== DATABASE SUMMARY ===')\n",
    "for table in tables:\n",
    "    cursor.execute(f'SELECT COUNT(*) FROM {table}')\n",
    "    count = cursor.fetchone()[0]\n",
    "    print(f'{table}: {count} rows')\n",
    "\n",
    "total_rows = sum([cursor.execute(f'SELECT COUNT(*) FROM {table}').fetchone()[0] for table in tables])\n",
    "print(f'\\nTotal rows across all tables: {total_rows}')"
   ]
  },
  {
   "cell_type": "code",
   "execution_count": null,
   "id": "close-connection",
   "metadata": {},
   "outputs": [],
   "source": [
    "# Close the database connection\n",
    "conn.close()\n",
    "print('\\nDatabase connection closed.')"
   ]
  }
 ],
 "metadata": {
  "kernelspec": {
   "display_name": "Python 3",
   "language": "python",
   "name": "python3"
  },
  "language_info": {
   "codemirror_mode": {
    "name": "ipython",
    "version": 3
   },
   "file_extension": ".py",
   "mimetype": "text/x-python",
   "name": "python",
   "nbconvert_exporter": "python",
   "pygments_lexer": "ipython3",
   "version": "3.8.10"
  }
 },
 "nbformat": 4,
 "nbformat_minor": 5
}
