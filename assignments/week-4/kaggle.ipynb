{
 "cells": [
  {
   "cell_type": "code",
   "execution_count": 1,
   "id": "2e8fbba4",
   "metadata": {},
   "outputs": [
    {
     "name": "stderr",
     "output_type": "stream",
     "text": [
      "/usr/local/python/3.12.1/lib/python3.12/site-packages/tqdm/auto.py:21: TqdmWarning: IProgress not found. Please update jupyter and ipywidgets. See https://ipywidgets.readthedocs.io/en/stable/user_install.html\n",
      "  from .autonotebook import tqdm as notebook_tqdm\n"
     ]
    },
    {
     "name": "stdout",
     "output_type": "stream",
     "text": [
      "Path to dataset files: /home/codespace/.cache/kagglehub/datasets/oddrationale/mnist-in-csv/versions/2\n"
     ]
    }
   ],
   "source": [
    "import kagglehub\n",
    "\n",
    "# Download latest version\n",
    "path = kagglehub.dataset_download(\"oddrationale/mnist-in-csv\")\n",
    "\n",
    "print(\"Path to dataset files:\", path)"
   ]
  },
  {
   "cell_type": "code",
   "execution_count": 7,
   "id": "e60476e4",
   "metadata": {},
   "outputs": [],
   "source": [
    "!cp -r \"/home/codespace/.cache/kagglehub/datasets/oddrationale/mnist-in-csv/versions/2\" \"../../resources/datasets\""
   ]
  },
  {
   "cell_type": "code",
   "execution_count": 2,
   "id": "72cd3d3a",
   "metadata": {},
   "outputs": [],
   "source": [
    "import pandas as pd\n",
    "import numpy as np"
   ]
  },
  {
   "cell_type": "code",
   "execution_count": 12,
   "id": "c633f139",
   "metadata": {},
   "outputs": [],
   "source": [
    "df_test = pd.read_csv(\"../../resources/datasets/mnist_test.csv\")\n",
    "df_train = pd.read_csv(\"../../resources/datasets/mnist_train.csv\")"
   ]
  },
  {
   "cell_type": "code",
   "execution_count": 13,
   "id": "25923e49",
   "metadata": {},
   "outputs": [],
   "source": [
    "df_test = pd.DataFrame(df_test)\n",
    "\n",
    "df_test = pd.DataFrame(df_train)"
   ]
  },
  {
   "cell_type": "code",
   "execution_count": 9,
   "id": "1b381bfd",
   "metadata": {},
   "outputs": [],
   "source": [
    "import matplotlib.pyplot as plt"
   ]
  },
  {
   "cell_type": "code",
   "execution_count": null,
   "id": "b0bed5c0",
   "metadata": {},
   "outputs": [],
   "source": [
    "for i in range(10):\n",
    "    im_idx = np.argwhere(y == i)[0]\n",
    "    print(im_idx)\n",
    "    plottable_image = np.reshape(X[im_idx], (28, 28))\n",
    "    plt.imshow(plottable_image, cmap='gray_r')\n",
    "    plt.subplot(2, 5, i + 1)\n",
    "\n",
    "plt.plot()"
   ]
  }
 ],
 "metadata": {
  "kernelspec": {
   "display_name": "Python 3",
   "language": "python",
   "name": "python3"
  },
  "language_info": {
   "codemirror_mode": {
    "name": "ipython",
    "version": 3
   },
   "file_extension": ".py",
   "mimetype": "text/x-python",
   "name": "python",
   "nbconvert_exporter": "python",
   "pygments_lexer": "ipython3",
   "version": "3.12.1"
  }
 },
 "nbformat": 4,
 "nbformat_minor": 5
}
